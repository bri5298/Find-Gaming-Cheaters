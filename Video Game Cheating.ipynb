{
 "cells": [
  {
   "cell_type": "code",
   "execution_count": 425,
   "id": "5d445963",
   "metadata": {},
   "outputs": [],
   "source": [
    "import numpy as np\n",
    "import pandas as pd\n",
    "import matplotlib.pyplot as plt\n",
    "from tensorflow.keras.models import Sequential\n",
    "from tensorflow.keras.layers import Dense"
   ]
  },
  {
   "cell_type": "code",
   "execution_count": 426,
   "id": "2c0c0781",
   "metadata": {},
   "outputs": [
    {
     "data": {
      "text/html": [
       "<div>\n",
       "<style scoped>\n",
       "    .dataframe tbody tr th:only-of-type {\n",
       "        vertical-align: middle;\n",
       "    }\n",
       "\n",
       "    .dataframe tbody tr th {\n",
       "        vertical-align: top;\n",
       "    }\n",
       "\n",
       "    .dataframe thead th {\n",
       "        text-align: right;\n",
       "    }\n",
       "</style>\n",
       "<table border=\"1\" class=\"dataframe\">\n",
       "  <thead>\n",
       "    <tr style=\"text-align: right;\">\n",
       "      <th></th>\n",
       "      <th>win_ratio</th>\n",
       "      <th>total_accuracy</th>\n",
       "      <th>kill_to_death_ratio</th>\n",
       "      <th>total_wins_per_hour</th>\n",
       "      <th>mvp_per_round</th>\n",
       "      <th>total_headshots_per_round</th>\n",
       "      <th>accuracy_ssg08</th>\n",
       "      <th>accuracy_awp</th>\n",
       "      <th>accuracy_deagle</th>\n",
       "      <th>accuracy_aug</th>\n",
       "      <th>...</th>\n",
       "      <th>accuracy_nova</th>\n",
       "      <th>accuracy_p250</th>\n",
       "      <th>accuracy_p90</th>\n",
       "      <th>accuracy_sawedoff</th>\n",
       "      <th>accuracy_sg556</th>\n",
       "      <th>accuracy_tec9</th>\n",
       "      <th>accuracy_ump45</th>\n",
       "      <th>accuracy_xm1014</th>\n",
       "      <th>total_games_owned</th>\n",
       "      <th>VACBanned</th>\n",
       "    </tr>\n",
       "  </thead>\n",
       "  <tbody>\n",
       "    <tr>\n",
       "      <th>0</th>\n",
       "      <td>0.51</td>\n",
       "      <td>0.19</td>\n",
       "      <td>1.16</td>\n",
       "      <td>21.44</td>\n",
       "      <td>0.09</td>\n",
       "      <td>0.67</td>\n",
       "      <td>0.34</td>\n",
       "      <td>0.38</td>\n",
       "      <td>0.20</td>\n",
       "      <td>0.17</td>\n",
       "      <td>...</td>\n",
       "      <td>0.14</td>\n",
       "      <td>0.21</td>\n",
       "      <td>0.14</td>\n",
       "      <td>0.11</td>\n",
       "      <td>0.14</td>\n",
       "      <td>0.13</td>\n",
       "      <td>0.11</td>\n",
       "      <td>0.15</td>\n",
       "      <td>70</td>\n",
       "      <td>0</td>\n",
       "    </tr>\n",
       "    <tr>\n",
       "      <th>1</th>\n",
       "      <td>0.49</td>\n",
       "      <td>0.18</td>\n",
       "      <td>1.23</td>\n",
       "      <td>19.64</td>\n",
       "      <td>0.08</td>\n",
       "      <td>0.78</td>\n",
       "      <td>0.26</td>\n",
       "      <td>0.31</td>\n",
       "      <td>0.21</td>\n",
       "      <td>0.24</td>\n",
       "      <td>...</td>\n",
       "      <td>0.24</td>\n",
       "      <td>0.18</td>\n",
       "      <td>0.11</td>\n",
       "      <td>0.14</td>\n",
       "      <td>0.44</td>\n",
       "      <td>0.31</td>\n",
       "      <td>0.35</td>\n",
       "      <td>0.40</td>\n",
       "      <td>19</td>\n",
       "      <td>0</td>\n",
       "    </tr>\n",
       "    <tr>\n",
       "      <th>2</th>\n",
       "      <td>0.50</td>\n",
       "      <td>0.20</td>\n",
       "      <td>1.08</td>\n",
       "      <td>18.15</td>\n",
       "      <td>0.14</td>\n",
       "      <td>1.36</td>\n",
       "      <td>0.33</td>\n",
       "      <td>0.39</td>\n",
       "      <td>0.27</td>\n",
       "      <td>0.24</td>\n",
       "      <td>...</td>\n",
       "      <td>0.24</td>\n",
       "      <td>0.18</td>\n",
       "      <td>0.18</td>\n",
       "      <td>0.19</td>\n",
       "      <td>0.20</td>\n",
       "      <td>0.20</td>\n",
       "      <td>0.20</td>\n",
       "      <td>0.20</td>\n",
       "      <td>9</td>\n",
       "      <td>1</td>\n",
       "    </tr>\n",
       "    <tr>\n",
       "      <th>3</th>\n",
       "      <td>0.49</td>\n",
       "      <td>0.17</td>\n",
       "      <td>1.03</td>\n",
       "      <td>23.26</td>\n",
       "      <td>0.10</td>\n",
       "      <td>0.34</td>\n",
       "      <td>0.30</td>\n",
       "      <td>0.38</td>\n",
       "      <td>0.27</td>\n",
       "      <td>0.17</td>\n",
       "      <td>...</td>\n",
       "      <td>0.16</td>\n",
       "      <td>0.15</td>\n",
       "      <td>0.13</td>\n",
       "      <td>0.16</td>\n",
       "      <td>0.14</td>\n",
       "      <td>0.14</td>\n",
       "      <td>0.17</td>\n",
       "      <td>0.17</td>\n",
       "      <td>37</td>\n",
       "      <td>1</td>\n",
       "    </tr>\n",
       "    <tr>\n",
       "      <th>4</th>\n",
       "      <td>0.50</td>\n",
       "      <td>0.13</td>\n",
       "      <td>1.21</td>\n",
       "      <td>22.39</td>\n",
       "      <td>0.11</td>\n",
       "      <td>0.46</td>\n",
       "      <td>0.20</td>\n",
       "      <td>0.23</td>\n",
       "      <td>0.18</td>\n",
       "      <td>0.16</td>\n",
       "      <td>...</td>\n",
       "      <td>0.14</td>\n",
       "      <td>0.16</td>\n",
       "      <td>0.13</td>\n",
       "      <td>0.12</td>\n",
       "      <td>0.13</td>\n",
       "      <td>0.11</td>\n",
       "      <td>0.14</td>\n",
       "      <td>0.16</td>\n",
       "      <td>273</td>\n",
       "      <td>0</td>\n",
       "    </tr>\n",
       "  </tbody>\n",
       "</table>\n",
       "<p>5 rows × 37 columns</p>\n",
       "</div>"
      ],
      "text/plain": [
       "   win_ratio  total_accuracy  kill_to_death_ratio  total_wins_per_hour  \\\n",
       "0       0.51            0.19                 1.16                21.44   \n",
       "1       0.49            0.18                 1.23                19.64   \n",
       "2       0.50            0.20                 1.08                18.15   \n",
       "3       0.49            0.17                 1.03                23.26   \n",
       "4       0.50            0.13                 1.21                22.39   \n",
       "\n",
       "   mvp_per_round  total_headshots_per_round  accuracy_ssg08  accuracy_awp  \\\n",
       "0           0.09                       0.67            0.34          0.38   \n",
       "1           0.08                       0.78            0.26          0.31   \n",
       "2           0.14                       1.36            0.33          0.39   \n",
       "3           0.10                       0.34            0.30          0.38   \n",
       "4           0.11                       0.46            0.20          0.23   \n",
       "\n",
       "   accuracy_deagle  accuracy_aug  ...  accuracy_nova  accuracy_p250  \\\n",
       "0             0.20          0.17  ...           0.14           0.21   \n",
       "1             0.21          0.24  ...           0.24           0.18   \n",
       "2             0.27          0.24  ...           0.24           0.18   \n",
       "3             0.27          0.17  ...           0.16           0.15   \n",
       "4             0.18          0.16  ...           0.14           0.16   \n",
       "\n",
       "   accuracy_p90  accuracy_sawedoff  accuracy_sg556  accuracy_tec9  \\\n",
       "0          0.14               0.11            0.14           0.13   \n",
       "1          0.11               0.14            0.44           0.31   \n",
       "2          0.18               0.19            0.20           0.20   \n",
       "3          0.13               0.16            0.14           0.14   \n",
       "4          0.13               0.12            0.13           0.11   \n",
       "\n",
       "   accuracy_ump45  accuracy_xm1014  total_games_owned  VACBanned  \n",
       "0            0.11             0.15                 70          0  \n",
       "1            0.35             0.40                 19          0  \n",
       "2            0.20             0.20                  9          1  \n",
       "3            0.17             0.17                 37          1  \n",
       "4            0.14             0.16                273          0  \n",
       "\n",
       "[5 rows x 37 columns]"
      ]
     },
     "execution_count": 426,
     "metadata": {},
     "output_type": "execute_result"
    }
   ],
   "source": [
    "# Import the data\n",
    "url = \"https://raw.githubusercontent.com/Nexosis/sampledata/master/csgo-small.csv\"\n",
    "all_ds = pd.read_csv(url)\n",
    "\n",
    "# Drop the rows with null values\n",
    "all_ds = all_ds.dropna()\n",
    "\n",
    "# Shuffle the rows to make sure the data is not sorted. In this case the data had the 'VACBanned' column \n",
    "# sorted to have all the 1 first so we want to shuffle that\n",
    "df = all_ds.sample(frac = 1).reset_index(drop = True)\n",
    "\n",
    "#Take a look at the data\n",
    "df.head()"
   ]
  },
  {
   "cell_type": "code",
   "execution_count": 427,
   "id": "319c0eb9",
   "metadata": {},
   "outputs": [
    {
     "name": "stdout",
     "output_type": "stream",
     "text": [
      "\n",
      "--------------------MAXIMUMS-----------------------\n",
      "\n",
      "VACBanned                       0       1\n",
      "win_ratio                    0.78    0.89\n",
      "total_accuracy               0.26    0.43\n",
      "kill_to_death_ratio          2.65    6.45\n",
      "total_wins_per_hour         55.62  186.04\n",
      "mvp_per_round                0.33    0.64\n",
      "total_headshots_per_round    3.30   11.96\n",
      "accuracy_ssg08               0.74    0.89\n",
      "accuracy_awp                 0.62    0.80\n",
      "accuracy_deagle              0.66    0.67\n",
      "accuracy_aug                 0.72    0.75\n",
      "accuracy_scar20              0.94    0.97\n",
      "accuracy_m4a1                0.40    0.59\n",
      "accuracy_ak47                0.33    0.73\n",
      "accuracy_bizon               1.07    0.65\n",
      "accuracy_elite               0.95    0.93\n",
      "accuracy_famas               0.51    0.58\n",
      "accuracy_fiveseven           0.49    1.00\n",
      "accuracy_g3sg1               1.79    2.33\n",
      "accuracy_galilar             0.79    0.73\n",
      "accuracy_glock               0.45    1.00\n",
      "accuracy_hkp2000             0.51    0.57\n",
      "accuracy_m249                2.29    1.67\n",
      "accuracy_mac10               1.23    0.76\n",
      "accuracy_mag7                0.37    1.23\n",
      "accuracy_mp7                 0.93    0.76\n",
      "accuracy_mp9                 0.95    1.25\n",
      "accuracy_negev               1.54    0.91\n",
      "accuracy_nova                0.35    1.29\n",
      "accuracy_p250                0.38    1.26\n",
      "accuracy_p90                 0.40    0.87\n",
      "accuracy_sawedoff            0.57    0.61\n",
      "accuracy_sg556               0.49    0.73\n",
      "accuracy_tec9                0.84    0.80\n",
      "accuracy_ump45               1.07    0.88\n",
      "accuracy_xm1014              0.71    0.86\n",
      "total_games_owned          424.00  842.00\n",
      "\n",
      "--------------------MEANS-----------------------\n",
      "\n",
      "VACBanned                          0          1\n",
      "win_ratio                   0.512488   0.527974\n",
      "total_accuracy              0.186014   0.180766\n",
      "kill_to_death_ratio         1.196498   1.294562\n",
      "total_wins_per_hour        21.272650  22.117847\n",
      "mvp_per_round               0.103433   0.130803\n",
      "total_headshots_per_round   0.669401   0.792810\n",
      "accuracy_ssg08              0.329401   0.334270\n",
      "accuracy_awp                0.373295   0.373759\n",
      "accuracy_deagle             0.244447   0.232464\n",
      "accuracy_aug                0.221521   0.210748\n",
      "accuracy_scar20             0.234286   0.235657\n",
      "accuracy_m4a1               0.193318   0.178595\n",
      "accuracy_ak47               0.173479   0.159069\n",
      "accuracy_bizon              0.190046   0.198577\n",
      "accuracy_elite              0.210668   0.213905\n",
      "accuracy_famas              0.200530   0.193449\n",
      "accuracy_fiveseven          0.209194   0.214142\n",
      "accuracy_g3sg1              0.217558   0.227920\n",
      "accuracy_galilar            0.172235   0.164799\n",
      "accuracy_glock              0.178041   0.191058\n",
      "accuracy_hkp2000            0.202028   0.204599\n",
      "accuracy_m249               0.157304   0.142391\n",
      "accuracy_mac10              0.210968   0.214069\n",
      "accuracy_mag7               0.213387   0.198741\n",
      "accuracy_mp7                0.231797   0.221314\n",
      "accuracy_mp9                0.218641   0.206642\n",
      "accuracy_negev              0.114516   0.105018\n",
      "accuracy_nova               0.196613   0.200219\n",
      "accuracy_p250               0.206705   0.213741\n",
      "accuracy_p90                0.168272   0.176004\n",
      "accuracy_sawedoff           0.169171   0.167281\n",
      "accuracy_sg556              0.186889   0.184051\n",
      "accuracy_tec9               0.189124   0.204453\n",
      "accuracy_ump45              0.196406   0.188996\n",
      "accuracy_xm1014             0.212949   0.197701\n",
      "total_games_owned          60.974654  57.970803\n"
     ]
    }
   ],
   "source": [
    "# Explore the maximums and means of the features to see if those who are banned have much higher scores\n",
    "print(\"\\n--------------------MAXIMUMS-----------------------\\n\")\n",
    "print(df.groupby('VACBanned').max().transpose())\n",
    "print(\"\\n--------------------MEANS-----------------------\\n\")\n",
    "print(df.groupby('VACBanned').mean().transpose())\n",
    "# In this case we see that some columns have values between 0-1 and others go all the way to 186 so we know that \n",
    "# later we will have to normalize the data in order to get them on an even scale "
   ]
  },
  {
   "cell_type": "code",
   "execution_count": 428,
   "id": "ee532298",
   "metadata": {},
   "outputs": [
    {
     "data": {
      "text/plain": [
       "<AxesSubplot:ylabel='VACBanned'>"
      ]
     },
     "execution_count": 428,
     "metadata": {},
     "output_type": "execute_result"
    },
    {
     "data": {
      "image/png": "[encoded data removed]",
      "text/plain": [
       "<Figure size 720x144 with 1 Axes>"
      ]
     },
     "metadata": {
      "needs_background": "light"
     },
     "output_type": "display_data"
    }
   ],
   "source": [
    "# Graph features by Banned (1) or not banned (0) to see the behaviour. See the difference in performance between the \n",
    "# banned players and those who arent banned\n",
    "\n",
    "# Can uncomment to see different graphs\n",
    "# df.groupby('VACBanned')['total_wins_per_hour'].mean().sort_values().plot(kind='barh',figsize=(10,2))\n",
    "# df.groupby('VACBanned')['kill_to_death_ratio'].mean().sort_values().plot(kind='barh',figsize=(10,2))\n",
    "df.groupby('VACBanned')['accuracy_glock'].mean().sort_values().plot(kind='barh',figsize=(10,2))"
   ]
  },
  {
   "cell_type": "code",
   "execution_count": 429,
   "id": "c87ed618",
   "metadata": {},
   "outputs": [
    {
     "data": {
      "text/plain": [
       "<AxesSubplot:title={'center':'accuracy_glock'}, xlabel='VACBanned'>"
      ]
     },
     "execution_count": 429,
     "metadata": {},
     "output_type": "execute_result"
    },
    {
     "data": {
      "image/png": "[encoded data removed]",
      "text/plain": [
       "<Figure size 504x432 with 1 Axes>"
      ]
     },
     "metadata": {
      "needs_background": "light"
     },
     "output_type": "display_data"
    }
   ],
   "source": [
    "# Boxplots for different features grouped by banned or not banned\n",
    "fig, ax = plt.subplots(figsize=(7,6))\n",
    "\n",
    "# Uncomment to see different plots\n",
    "# df.boxplot(column='total_wins_per_hour', by='VACBanned',ax=ax)\n",
    "# df.boxplot(column='kill_to_death_ratio', by='VACBanned',ax=ax)\n",
    "df.boxplot(column='accuracy_glock', by='VACBanned',ax=ax)"
   ]
  },
  {
   "cell_type": "code",
   "execution_count": 430,
   "id": "a2a9645f",
   "metadata": {},
   "outputs": [
    {
     "name": "stdout",
     "output_type": "stream",
     "text": [
      "(657, 36) (325, 36) (657, 1) (325, 1)\n"
     ]
    }
   ],
   "source": [
    "# Use Sklearn to split the data into the training and the test data\n",
    "from sklearn.model_selection import train_test_split\n",
    "\n",
    "# Split the data into X and Y variables \n",
    "X = df.loc[:, df.columns !='VACBanned'] #take all columns EXCEPT VACBanned Column\n",
    "y = df.loc[:, df.columns =='VACBanned'] #take only the VACBanned column\n",
    "\n",
    "# Split the data into 77% to train and the remaining 23% is to test\n",
    "# We could use these straight away into the models but for more accurate results it's best to normalize the X data\n",
    "X_train_pre_norm, X_test_pre_norm, y_train, y_test = train_test_split(X, y, test_size = 0.33) \n",
    "\n",
    "print(X_train_pre_norm.shape, X_test_pre_norm.shape, y_train.shape, y_test.shape)"
   ]
  },
  {
   "cell_type": "code",
   "execution_count": 431,
   "id": "fdbb3f96",
   "metadata": {},
   "outputs": [],
   "source": [
    "# Normalize the data\n",
    "from sklearn import preprocessing\n",
    "\n",
    "# Normalize the training data (X_train)\n",
    "std_scale = preprocessing.StandardScaler().fit(X_train_pre_norm)\n",
    "X_train_array = std_scale.transform(X_train_pre_norm) \n",
    "\n",
    "# Convert np array to pandas df\n",
    "X_train = pd.DataFrame(X_train_array, index = X_train_pre_norm.index, columns = X_train_pre_norm.columns)\n",
    "# print(X_train.head())\n",
    "\n",
    "# Normalize test data (X_test)\n",
    "X_test_array = std_scale.transform(X_test_pre_norm)\n",
    "X_test = pd.DataFrame(X_test_array, index = X_test_pre_norm.index, columns = X_train_pre_norm.columns)\n",
    "# print(X_test.head())"
   ]
  },
  {
   "cell_type": "code",
   "execution_count": 432,
   "id": "840cebfb",
   "metadata": {},
   "outputs": [],
   "source": [
    "# Now we can get into the models\n",
    "# Function for the basic model\n",
    "def basic_model():\n",
    "    #Create the model\n",
    "    model = Sequential()\n",
    "    # We can play with the number of nodes and layers which we will see in the other models  \n",
    "    # The sigmoid layer takes the input and outputs values between 0 and 1\n",
    "    model.add(Dense(1, activation = 'sigmoid'))\n",
    "    # Compile the model\n",
    "    model.compile(loss = 'binary_crossentropy', optimizer = 'adam', metrics = ['accuracy'])\n",
    "    \n",
    "    return model"
   ]
  },
  {
   "cell_type": "code",
   "execution_count": 433,
   "id": "da23d27a",
   "metadata": {},
   "outputs": [],
   "source": [
    "# Function for the medium model. This one has more layers and nodes than the previous\n",
    "def medium_model():\n",
    "    #Create the model\n",
    "    model = Sequential()\n",
    "    # We can play with the number of nodes and layers to try to improve our model\n",
    "    # Relu is a piecewise linear function that will output the input directly if its positive, otherwise output is 0\n",
    "    # When in doubt use Relu. It is the most commonly used and a good first choice\n",
    "    # When using Relu activation, its not necessary but good practice to use a 'he_normal' or \n",
    "    #'he_uniform' weight initialization (kernel_initializer)\n",
    "    model.add(Dense(12, input_shape = (X_train.shape[1],), activation = 'relu', kernel_initializer = 'he_normal'))\n",
    "    model.add(Dense(8, activation = 'relu', kernel_initializer = 'he_normal'))\n",
    "    \n",
    "    # This last layer (sigmoid) takes the input (output from previous layer) and outputs values between 0 and 1\n",
    "    model.add(Dense(1, activation = 'sigmoid'))  \n",
    "    # Compile the model\n",
    "    model.compile(loss = 'binary_crossentropy', optimizer = 'adam', metrics = ['accuracy'])\n",
    "    \n",
    "    return model"
   ]
  },
  {
   "cell_type": "code",
   "execution_count": 434,
   "id": "4bb615d4",
   "metadata": {},
   "outputs": [],
   "source": [
    "# Function for the larger model with added layers. This one has even more layers and nodes than the previous\n",
    "def large_model():\n",
    "    #Create the model\n",
    "    model = Sequential()\n",
    "    # We can play with the number of nodes and layers to try to improve our model\n",
    "    # Relu is a piecewise linear function that will output the input directly if its positive, otherwise output is 0\n",
    "    # When in doubt use Relu. It is the most commonly used and a good first choice\n",
    "    # When using Relu activation, its not necessary but good practice to use a 'he_normal' or \n",
    "    #'he_uniform' weight initialization (kernel_initializer)\n",
    "    model.add(Dense(32, input_shape = (X_train.shape[1],), activation = 'relu', kernel_initializer = 'he_normal'))\n",
    "    model.add(Dense(16, activation = 'relu', kernel_initializer = 'he_normal'))\n",
    "    model.add(Dense(8, activation = 'relu', kernel_initializer = 'he_normal'))\n",
    "    \n",
    "    # This last layer (sigmoid) takes the input (output from previous layer) and outputs values between 0 and 1\n",
    "    model.add(Dense(1, activation = 'sigmoid'))\n",
    "    # Compile the model\n",
    "    model.compile(loss = 'binary_crossentropy', optimizer = 'adam', metrics = ['accuracy'])\n",
    "    \n",
    "    return model"
   ]
  },
  {
   "cell_type": "code",
   "execution_count": 435,
   "id": "8ff2e554",
   "metadata": {},
   "outputs": [],
   "source": [
    "#Decide which model will be used for the fitting and observing. Uncomment the one you want\n",
    "model_to_use = basic_model()\n",
    "# model_to_use = large_model()\n",
    "# model_to_use = medium_model()"
   ]
  },
  {
   "cell_type": "code",
   "execution_count": 436,
   "id": "f9d6e2dc",
   "metadata": {},
   "outputs": [
    {
     "name": "stdout",
     "output_type": "stream",
     "text": [
      "dict_keys(['loss', 'accuracy', 'val_loss', 'val_accuracy'])\n"
     ]
    }
   ],
   "source": [
    "# Fit the model \n",
    "# You can play around with the numbers here to see what works best, gives you the best acuracy,\n",
    "# doesnt have overfitting and has good results in the confusion matrix. Ex: \n",
    "# Basic model Epochs = 10, batch_size = 10\n",
    "# Medium model EP = 25, b_s = 85\n",
    "# Large model EP=80, b_s = 12\n",
    "\n",
    "history2 = model_to_use.fit(X_train, y_train, validation_data = (X_test, y_test),\n",
    "                           epochs = 20, batch_size = 1, verbose = 0)\n",
    "print(history2.history.keys())"
   ]
  },
  {
   "cell_type": "code",
   "execution_count": 437,
   "id": "675ecede",
   "metadata": {},
   "outputs": [
    {
     "name": "stdout",
     "output_type": "stream",
     "text": [
      "Accuracy of this model is: 0.711\n"
     ]
    }
   ],
   "source": [
    "# Evaluate the model and view its accuracy\n",
    "loss, acc = model_to_use.evaluate(X_test, y_test, verbose = 0)\n",
    "print('Accuracy of this model is: %.3f' % acc)"
   ]
  },
  {
   "cell_type": "code",
   "execution_count": 438,
   "id": "8fc8bf1d",
   "metadata": {},
   "outputs": [
    {
     "name": "stdout",
     "output_type": "stream",
     "text": [
      "For this row the model predicted: 0.140\n",
      "The actual answer was:  [[0]]\n"
     ]
    }
   ],
   "source": [
    "# Make a prediction based on given input\n",
    "\n",
    "# View the actual values (these ones are after normalization)\n",
    "# print(X_test[25:26].transpose()) \n",
    "y_test_array = y_test.to_numpy()\n",
    "actual_answer = y_test_array[25:26] # What is the actual answer for that row \n",
    "\n",
    "# What answer did the model predict for the selected row\n",
    "yhat = model_to_use.predict(X_test[25:26]) \n",
    "print('For this row the model predicted: %.3f' %yhat)\n",
    "print('The actual answer was: ', actual_answer)\n",
    "\n",
    "# Say the model predicted 0.75 and the actual answer is 1, the model was correct\n",
    "# If the model predicted 0.23 and the actual answer was 0, the model was correct\n",
    "# If the model predicted 0.40 and the answer was 1, the model WAS NOT correct"
   ]
  },
  {
   "cell_type": "code",
   "execution_count": 439,
   "id": "0f339483",
   "metadata": {},
   "outputs": [
    {
     "data": {
      "image/png": "[encoded data removed]",
      "text/plain": [
       "<Figure size 432x288 with 1 Axes>"
      ]
     },
     "metadata": {
      "needs_background": "light"
     },
     "output_type": "display_data"
    }
   ],
   "source": [
    "# plot the summary history for accuracy\n",
    "plt.plot(history2.history['accuracy'])\n",
    "plt.plot(history2.history['val_accuracy'])\n",
    "plt.title('Model accuracy')\n",
    "plt.ylabel('accuracy')\n",
    "plt.xlabel('epoch')\n",
    "plt.legend(['Train', 'test'], loc = 'upper left')\n",
    "plt.show()\n",
    "# If test set accuracy (orange) is much lower than the train accuracy (blue) it could mean that there is overfitting\n",
    "# so decreasing number of epochs, batch size, number of layers in the model, number of neurons etc."
   ]
  },
  {
   "cell_type": "code",
   "execution_count": 440,
   "id": "994b78e0",
   "metadata": {},
   "outputs": [
    {
     "data": {
      "image/png": "[encoded data removed]",
      "text/plain": [
       "<Figure size 432x288 with 1 Axes>"
      ]
     },
     "metadata": {
      "needs_background": "light"
     },
     "output_type": "display_data"
    }
   ],
   "source": [
    "#plot history for loss\n",
    "plt.plot(history2.history['loss'])\n",
    "plt.plot(history2.history['val_loss'])\n",
    "plt.title('Model Loss')\n",
    "plt.ylabel('Loss')\n",
    "plt.xlabel('epoch')\n",
    "plt.legend(['Train', 'Cross-Validation'], loc = 'upper left')\n",
    "plt.show()\n",
    "# Decreasing loss (decreasing blue line) means the model is learning. If the blue doesnt go all the way to the bottom\n",
    "# which means it is still learning so if we increase the number of epochs maybe it will keep learning more\n",
    "# If the cross-validation starts going up it means we're overfitting so decrease epochs, change batch_size etc."
   ]
  },
  {
   "cell_type": "code",
   "execution_count": 441,
   "id": "b71d0333",
   "metadata": {},
   "outputs": [
    {
     "data": {
      "image/png": "[encoded data removed]",
      "text/plain": [
       "<Figure size 432x288 with 2 Axes>"
      ]
     },
     "metadata": {
      "needs_background": "light"
     },
     "output_type": "display_data"
    }
   ],
   "source": [
    "# Create a confusion matrix to see our results\n",
    "from sklearn.metrics import confusion_matrix\n",
    "import seaborn as sns\n",
    "\n",
    "ax1 = plt.subplot()\n",
    "predict_results = model_to_use.predict(X_test)\n",
    "predict_results = (predict_results >= 0.5) # 0.5 is the threshold. Anything above 0.5 is 1, anything below is 0\n",
    "cm = confusion_matrix(y_test, predict_results)\n",
    "\n",
    "sns.heatmap(cm, annot = True, ax = ax1, fmt = \".1f\"); #annot = True to annotate cells\n",
    "\n",
    "ax1.set_xlabel('Predicted Labels');ax1.set_ylabel('True labels');\n",
    "ax1.set_title('Confusion Matrix')\n",
    "ax1.xaxis.set_ticklabels(['Positive', 'Negative']); ax1.yaxis.set_ticklabels(['Positive', 'Negative']);\n",
    "# Looking at the confusion matrix, the top left corner and bottom right corner are the number of correct predictions\n",
    "# the model made \n",
    "# The top right is False negatives so the model predicted 0 but the actual value was 1 \n",
    "# The bottom left is False positives so the model predicted 1 but the actual value was 0"
   ]
  },
  {
   "cell_type": "code",
   "execution_count": null,
   "id": "64cda177",
   "metadata": {},
   "outputs": [],
   "source": []
  }
 ],
 "metadata": {
  "kernelspec": {
   "display_name": "Python 3 (ipykernel)",
   "language": "python",
   "name": "python3"
  },
  "language_info": {
   "codemirror_mode": {
    "name": "ipython",
    "version": 3
   },
   "file_extension": ".py",
   "mimetype": "text/x-python",
   "name": "python",
   "nbconvert_exporter": "python",
   "pygments_lexer": "ipython3",
   "version": "3.9.7"
  }
 },
 "nbformat": 4,
 "nbformat_minor": 5
}
